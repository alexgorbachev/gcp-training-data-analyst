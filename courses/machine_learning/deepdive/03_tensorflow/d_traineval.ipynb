{
 "cells": [
  {
   "cell_type": "markdown",
   "metadata": {
    "deletable": true,
    "editable": true
   },
   "source": [
    "<h1> 2d. Distributed training and monitoring </h1>\n",
    "\n",
    "In this notebook, we refactor to call ```train_and_evaluate``` instead of hand-coding our ML pipeline. This allows us to carry out evaluation as part of our training loop instead of as a separate step. It also adds in failure-handling that is necessary for distributed training capabilities.\n",
    "\n",
    "We also use TensorBoard to monitor the training."
   ]
  },
  {
   "cell_type": "code",
   "execution_count": null,
   "metadata": {
    "collapsed": false,
    "deletable": true,
    "editable": true
   },
   "outputs": [],
   "source": [
    "#model taxi-linear taxi-dnn\n",
    "import tensorflow as tf\n",
    "import numpy as np\n",
    "import shutil"
   ]
  },
  {
   "cell_type": "code",
   "execution_count": null,
   "metadata": {},
   "outputs": [],
   "source": [
    "#import datalab.bigquery as bq\n",
    "#from google.datalab.ml import TensorBoard\n",
    "print(tf.__version__)"
   ]
  },
  {
   "cell_type": "markdown",
   "metadata": {
    "deletable": true,
    "editable": true
   },
   "source": [
    "<h2> Input </h2>\n",
    "\n",
    "Read data created in Lab1a, but this time make it more general, so that we are reading in batches.  Instead of using Pandas, we will use add a filename queue to the TensorFlow graph."
   ]
  },
  {
   "cell_type": "code",
   "execution_count": null,
   "metadata": {
    "collapsed": true,
    "deletable": true,
    "editable": true
   },
   "outputs": [],
   "source": [
    "#model taxi-linear taxi-dnn\n",
    "CSV_COLUMNS = ['fare_amount', 'pickuplon','pickuplat','dropofflon','dropofflat','passengers', 'key']\n",
    "LABEL_COLUMN = 'fare_amount'\n",
    "DEFAULTS = [[0.0], [-74.0], [40.0], [-74.0], [40.7], [1.0], ['nokey']]\n",
    "\n",
    "def read_dataset(filename, mode, batch_size = 512):\n",
    "      def decode_csv(value_column):\n",
    "          columns = tf.decode_csv(value_column, record_defaults = DEFAULTS)\n",
    "          features = dict(zip(CSV_COLUMNS, columns))\n",
    "          label = features.pop(LABEL_COLUMN)\n",
    "          # No need to features.pop('key') since it is not specified in the INPUT_COLUMNS.\n",
    "          # The key passes through the graph unused.\n",
    "          return features, label\n",
    "\n",
    "      # Create list of file names that match \"glob\" pattern (i.e. data_file_*.csv)\n",
    "      filenames_dataset = tf.data.Dataset.list_files(filename)\n",
    "      # Read lines from text files\n",
    "      textlines_dataset = filenames_dataset.flat_map(tf.data.TextLineDataset)\n",
    "      # Parse text lines as comma-separated values (CSV)\n",
    "      dataset = textlines_dataset.map(decode_csv)\n",
    "\n",
    "      # Note:\n",
    "      # use tf.data.Dataset.flat_map to apply one to many transformations (here: filename -> text lines)\n",
    "      # use tf.data.Dataset.map      to apply one to one  transformations (here: text line -> feature list)\n",
    "\n",
    "      if mode == tf.estimator.ModeKeys.TRAIN:\n",
    "          num_epochs = None # indefinitely\n",
    "          dataset = dataset.shuffle(buffer_size = 10 * batch_size)\n",
    "      else:\n",
    "          num_epochs = 1 # end-of-input after this\n",
    "\n",
    "      dataset = dataset.repeat(num_epochs).batch(batch_size)\n",
    "      \n",
    "      return dataset"
   ]
  },
  {
   "cell_type": "markdown",
   "metadata": {
    "deletable": true,
    "editable": true
   },
   "source": [
    "<h2> Create features out of input data </h2>\n",
    "\n",
    "For now, pass these through.  (same as previous lab)"
   ]
  },
  {
   "cell_type": "code",
   "execution_count": null,
   "metadata": {
    "collapsed": true,
    "deletable": true,
    "editable": true
   },
   "outputs": [],
   "source": [
    "#model taxi-linear taxi-dnn\n",
    "INPUT_COLUMNS = [\n",
    "    tf.feature_column.numeric_column('pickuplon'),\n",
    "    tf.feature_column.numeric_column('pickuplat'),\n",
    "    tf.feature_column.numeric_column('dropofflat'),\n",
    "    tf.feature_column.numeric_column('dropofflon'),\n",
    "    tf.feature_column.numeric_column('passengers'),\n",
    "]\n",
    "\n",
    "def add_more_features(feats):\n",
    "    # Nothing to add (yet!)\n",
    "    return feats\n",
    "\n",
    "feature_cols = add_more_features(INPUT_COLUMNS)"
   ]
  },
  {
   "cell_type": "markdown",
   "metadata": {
    "deletable": true,
    "editable": true
   },
   "source": [
    "<h2> Serving input function </h2>"
   ]
  },
  {
   "cell_type": "code",
   "execution_count": null,
   "metadata": {
    "collapsed": true,
    "deletable": true,
    "editable": true
   },
   "outputs": [],
   "source": [
    "#model taxi-linear taxi-dnn\n",
    "# Defines the expected shape of the JSON feed that the model\n",
    "# will receive once deployed behind a REST API in production.\n",
    "def serving_input_fn():\n",
    "    json_feature_placeholders = {\n",
    "        'pickuplon' : tf.placeholder(tf.float32, [None]),\n",
    "        'pickuplat' : tf.placeholder(tf.float32, [None]),\n",
    "        'dropofflat' : tf.placeholder(tf.float32, [None]),\n",
    "        'dropofflon' : tf.placeholder(tf.float32, [None]),\n",
    "        'passengers' : tf.placeholder(tf.float32, [None]),\n",
    "    }\n",
    "    # You can transforma data here from the input format to the format expected by your model.\n",
    "    features = json_feature_placeholders # no transformation needed\n",
    "    return tf.estimator.export.ServingInputReceiver(features, json_feature_placeholders)"
   ]
  },
  {
   "cell_type": "markdown",
   "metadata": {
    "deletable": true,
    "editable": true
   },
   "source": [
    "<h2> tf.estimator.train_and_evaluate </h2>"
   ]
  },
  {
   "cell_type": "code",
   "execution_count": null,
   "metadata": {
    "collapsed": true,
    "deletable": true,
    "editable": true
   },
   "outputs": [],
   "source": [
    "#model taxi-dnn\n",
    "# Create an estimator that we are going to train and evaluate\n",
    "def train_and_evaluate(job_dir: ['GCS or local path to write checkpoints and export models', str],\n",
    "                       train_data_paths: ['GCS or local path to training data', str],\n",
    "                       eval_data_paths: ['GCS or local path to evaluation data', str],\n",
    "                       train_steps: ['Steps to run the training job for', int],\n",
    "                       train_batch_size: ['Batch size for training steps', int] = 512,\n",
    "                       eval_batch_size: ['Batch size for evaluation steps', int] = 512,\n",
    "                       eval_delay_secs: ['How long to wait before running first evaluation', int] = 1,\n",
    "                       eval_throttle_secs: ['Minimul seconds between evaluations', int] = 10,\n",
    "                       eval_steps: ['Number of steps to run evalution for at each checkpoint', int] = None,\n",
    "                       hidden_units: ['List of hidden layer sizes to use for DNN feature columns', int, '+']\n",
    "                           = [128, 32, 4]\n",
    "                      ):\n",
    "    estimator = tf.estimator.DNNRegressor(\n",
    "                                model_dir = job_dir,\n",
    "                                feature_columns = feature_cols,\n",
    "                                hidden_units = hidden_units)\n",
    "    \n",
    "    train_spec = tf.estimator.TrainSpec(\n",
    "        input_fn = lambda: read_dataset(train_data_paths,\n",
    "                                batch_size = train_batch_size,\n",
    "                                mode = tf.estimator.ModeKeys.TRAIN),\n",
    "                                max_steps = train_steps)\n",
    "    \n",
    "    exporter = tf.estimator.LatestExporter('exporter', serving_input_fn)\n",
    "\n",
    "    eval_spec = tf.estimator.EvalSpec(\n",
    "        input_fn = lambda: read_dataset(eval_data_paths,\n",
    "                                batch_size = eval_batch_size,\n",
    "                                mode = tf.estimator.ModeKeys.EVAL),\n",
    "                                steps = eval_steps,\n",
    "                                start_delay_secs = eval_delay_secs,\n",
    "                                throttle_secs = eval_throttle_secs,\n",
    "                                exporters = exporter)\n",
    "    tf.estimator.train_and_evaluate(estimator, train_spec, eval_spec)\n",
    "\n"
   ]
  },
  {
   "cell_type": "code",
   "execution_count": null,
   "metadata": {},
   "outputs": [],
   "source": [
    "#model taxi-linear\n",
    "def train_and_evaluate(job_dir: ['GCS or local path to write checkpoints and export models', str],\n",
    "                       train_data_paths: ['GCS or local path to training data', str],\n",
    "                       eval_data_paths: ['GCS or local path to evaluation data', str],\n",
    "                       train_steps: ['Steps to run the training job for', int],\n",
    "                       train_batch_size: ['Batch size for training steps', int] = 512,\n",
    "                       eval_batch_size: ['Batch size for evaluation steps', int] = 512,\n",
    "                       eval_delay_secs: ['How long to wait before running first evaluation', int] = 10,\n",
    "                       eval_throttle_secs: ['Minimul seconds between evaluations', int] = 10,\n",
    "                       eval_steps: ['Number of steps to run evalution for at each checkpoint', int] = None\n",
    "                      ):\n",
    "    estimator = tf.estimator.LinearRegressor(\n",
    "        model_dir = job_dir,\n",
    "        feature_columns = feature_cols)\n",
    "    \n",
    "    train_spec=tf.estimator.TrainSpec(\n",
    "       input_fn = lambda: read_dataset(train_data_paths,\n",
    "                                       batch_size = train_batch_size,\n",
    "                                       mode = tf.estimator.ModeKeys.TRAIN),\n",
    "                                       max_steps = train_steps)\n",
    "\n",
    "    exporter = tf.estimator.LatestExporter('exporter', serving_input_fn)\n",
    "\n",
    "    eval_spec=tf.estimator.EvalSpec(\n",
    "       input_fn = lambda: read_dataset(eval_data_paths,\n",
    "                                       batch_size = eval_batch_size,\n",
    "                                       mode = tf.estimator.ModeKeys.EVAL),\n",
    "                                       steps = eval_steps,\n",
    "                                       start_delay_secs = eval_delay_secs,\n",
    "                                       throttle_secs = eval_throttle_secs,\n",
    "                                       exporters = exporter)\n",
    "    \n",
    "    tf.estimator.train_and_evaluate(estimator, train_spec, eval_spec)"
   ]
  },
  {
   "cell_type": "markdown",
   "metadata": {},
   "source": [
    "# AG: reproduce bug with events and eval dir\n",
    "Run it first time in the notebook - and events file + eval dir are created in each job_dir.\n",
    "Run it another time (for the same paths) and they are missing"
   ]
  },
  {
   "cell_type": "code",
   "execution_count": null,
   "metadata": {},
   "outputs": [],
   "source": [
    "shutil.rmtree('taxi_trained', ignore_errors=True)\n",
    "train_and_evaluate(job_dir='taxi_trained',\n",
    "                   train_data_paths='taxi-train.csv',\n",
    "                   eval_data_paths='taxi-valid.csv',\n",
    "                   train_steps=500\n",
    "                  )\n",
    "shutil.rmtree('taxi_trained2', ignore_errors=True)\n",
    "train_and_evaluate(job_dir='taxi_trained2',\n",
    "                   train_data_paths='taxi-train.csv',\n",
    "                   eval_data_paths='taxi-valid.csv',\n",
    "                   train_steps=500\n",
    "                  )\n",
    "shutil.rmtree('taxi_trained3', ignore_errors=True)\n",
    "train_and_evaluate(job_dir='taxi_trained3',\n",
    "                   train_data_paths='taxi-train.csv',\n",
    "                   eval_data_paths='taxi-valid.csv',\n",
    "                   train_steps=500\n",
    "                  )"
   ]
  },
  {
   "cell_type": "markdown",
   "metadata": {},
   "source": [
    "# AG: bug\n",
    "Tried to use original Google code just in case I screwed up."
   ]
  },
  {
   "cell_type": "code",
   "execution_count": null,
   "metadata": {},
   "outputs": [],
   "source": [
    "def train_and_evaluate_old(output_dir, num_train_steps):\n",
    "    estimator = tf.estimator.LinearRegressor(\n",
    "                       model_dir = output_dir,\n",
    "                       feature_columns = feature_cols)\n",
    "    \n",
    "    train_spec=tf.estimator.TrainSpec(\n",
    "                       input_fn = lambda: read_dataset('./taxi-train.csv', mode = tf.estimator.ModeKeys.TRAIN),\n",
    "                       max_steps = num_train_steps)\n",
    "\n",
    "    exporter = tf.estimator.LatestExporter('exporter', serving_input_fn)\n",
    "\n",
    "    eval_spec=tf.estimator.EvalSpec(\n",
    "                       input_fn = lambda: read_dataset('./taxi-valid.csv', mode = tf.estimator.ModeKeys.EVAL),\n",
    "                       steps = None,\n",
    "                       start_delay_secs = 1, # start evaluating after N seconds\n",
    "                       throttle_secs = 10,  # evaluate every N seconds\n",
    "                       exporters = exporter)\n",
    "    \n",
    "    tf.estimator.train_and_evaluate(estimator, train_spec, eval_spec)"
   ]
  },
  {
   "cell_type": "markdown",
   "metadata": {},
   "source": [
    "This will produce events. When run second time - in this (or another cell - next) - it won't produce events."
   ]
  },
  {
   "cell_type": "code",
   "execution_count": null,
   "metadata": {},
   "outputs": [],
   "source": [
    "OUTDIR = './taxi_trained_old'\n",
    "shutil.rmtree(OUTDIR, ignore_errors = True) # start fresh each time\n",
    "train_and_evaluate_old(OUTDIR, num_train_steps = 500)"
   ]
  },
  {
   "cell_type": "code",
   "execution_count": null,
   "metadata": {},
   "outputs": [],
   "source": [
    "OUTDIR = './taxi_trained_old'\n",
    "shutil.rmtree(OUTDIR, ignore_errors = True) # start fresh each time\n",
    "train_and_evaluate_old(OUTDIR, num_train_steps = 500)"
   ]
  },
  {
   "cell_type": "markdown",
   "metadata": {},
   "source": [
    "This will produce events again when run first time. Note the new path."
   ]
  },
  {
   "cell_type": "code",
   "execution_count": null,
   "metadata": {},
   "outputs": [],
   "source": [
    "OUTDIR = './taxi_trained_old2'\n",
    "shutil.rmtree(OUTDIR, ignore_errors = True) # start fresh each time\n",
    "train_and_evaluate_old(OUTDIR, num_train_steps = 500)"
   ]
  },
  {
   "cell_type": "markdown",
   "metadata": {},
   "source": [
    "no events:"
   ]
  },
  {
   "cell_type": "code",
   "execution_count": null,
   "metadata": {},
   "outputs": [],
   "source": [
    "OUTDIR = './taxi_trained_old2'\n",
    "shutil.rmtree(OUTDIR, ignore_errors = True) # start fresh each time\n",
    "train_and_evaluate_old(OUTDIR, num_train_steps = 500)"
   ]
  },
  {
   "cell_type": "markdown",
   "metadata": {
    "deletable": true,
    "editable": true
   },
   "source": [
    "<h2> Monitoring with TensorBoard </h2>\n",
    "<br/>\n",
    "Use \"refresh\" in Tensorboard during training to see progress.\n",
    "<br/>\n",
    "We link /var/log/tensorboard"
   ]
  },
  {
   "cell_type": "raw",
   "metadata": {},
   "source": [
    "%%bash\n",
    "mkdir /var/log/tensorboard 2>/dev/null\n",
    "ln -sfT `pwd`/taxi_trained /var/log/tensorboard/taxi_trained\n",
    "ls -l /var/log/tensorboard/*"
   ]
  },
  {
   "cell_type": "raw",
   "metadata": {},
   "source": [
    "estimator = tf.estimator.LinearRegressor(\n",
    "                       model_dir = OUTDIR,\n",
    "                       feature_columns = feature_cols)`"
   ]
  },
  {
   "cell_type": "raw",
   "metadata": {},
   "source": [
    "metrics = estimator.evaluate(lambda: read_dataset('./taxi-valid.csv', mode = tf.estimator.ModeKeys.EVAL))\n",
    "print('RMSE on dataset = {}'.format(np.sqrt(metrics['average_loss'])))"
   ]
  },
  {
   "cell_type": "raw",
   "metadata": {
    "deletable": true,
    "editable": true
   },
   "source": [
    "# to list Tensorboard instances\n",
    "pids_df = TensorBoard().list`()\n",
    "pids_df[~pi`ds_df['port'].isnull()]"
   ]
  },
  {
   "cell_type": "raw",
   "metadata": {
    "deletable": true,
    "editable": true
   },
   "source": [
    "pids_df = TensorBoard.list()\n",
    "pids_df = pids_df[~pids_df['port'].isnull()]\n",
    "if not pids_df.empty:\n",
    "    for pid in pids_df['pid']:\n",
    "        TensorBoard().stop(pid)\n",
    "        print('Stopped TensorBoard with pid {}'.format(pid))"
   ]
  },
  {
   "cell_type": "markdown",
   "metadata": {
    "deletable": true,
    "editable": true
   },
   "source": [
    "## Challenge Exercise\n",
    "\n",
    "Modify your solution to the challenge exercise in c_dataset.ipynb appropriately."
   ]
  },
  {
   "cell_type": "markdown",
   "metadata": {
    "deletable": true,
    "editable": true
   },
   "source": [
    "Copyright 2017 Google Inc. Licensed under the Apache License, Version 2.0 (the \"License\"); you may not use this file except in compliance with the License. You may obtain a copy of the License at http://www.apache.org/licenses/LICENSE-2.0 Unless required by applicable law or agreed to in writing, software distributed under the License is distributed on an \"AS IS\" BASIS, WITHOUT WARRANTIES OR CONDITIONS OF ANY KIND, either express or implied. See the License for the specific language governing permissions and limitations under the License"
   ]
  }
 ],
 "metadata": {
  "kernelspec": {
   "display_name": "Python 3",
   "language": "python",
   "name": "python3"
  },
  "language_info": {
   "codemirror_mode": {
    "name": "ipython",
    "version": 3
   },
   "file_extension": ".py",
   "mimetype": "text/x-python",
   "name": "python",
   "nbconvert_exporter": "python",
   "pygments_lexer": "ipython3",
   "version": "3.5.2"
  }
 },
 "nbformat": 4,
 "nbformat_minor": 2
}
